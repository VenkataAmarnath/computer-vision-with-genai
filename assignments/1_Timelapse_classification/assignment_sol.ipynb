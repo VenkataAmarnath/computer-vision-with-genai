{
 "cells": [
  {
   "cell_type": "markdown",
   "metadata": {},
   "source": [
    "### Assignment 1 :\n",
    "\n",
    "\n",
    "Record a video or download a timelapse video of evening where the transition of day to evening or evening to night is visible clearly. \n",
    "\n",
    "Video condition : any of below\n",
    "1. Day to evening\n",
    "2. Evening to Night\n",
    "3. Night to Morning/Day\n",
    "\n",
    "- Input : video file path\n",
    "- Output : 40% is Day/Evening, 60% is Night/Evening\n",
    "- Output : 20 Early morning, 10% night, 70% Day\n",
    "\n",
    "- Example Video Link : https://www.youtube.com/watch?v=jNEjw1fMk-8"
   ]
  },
  {
   "cell_type": "code",
   "execution_count": 1,
   "metadata": {},
   "outputs": [],
   "source": [
    "import cv2\n",
    "import numpy as np"
   ]
  },
  {
   "cell_type": "code",
   "execution_count": 7,
   "metadata": {},
   "outputs": [],
   "source": [
    "video_path1=\"video1.mp4\"\n",
    "video_path2=\"video2.mp4\""
   ]
  },
  {
   "cell_type": "markdown",
   "metadata": {},
   "source": [
    "# Solution 1\n",
    "# Output: % of day and % of night"
   ]
  },
  {
   "cell_type": "code",
   "execution_count": 3,
   "metadata": {},
   "outputs": [],
   "source": [
    "\n",
    "def get_timelapse_div(video_path):\n",
    "    capturedVideo=cv2.VideoCapture(video_path)\n",
    "\n",
    "    if capturedVideo.isOpened():\n",
    "        l_threshold=100\n",
    "        day=0\n",
    "        night=0\n",
    "\n",
    "        while True: \n",
    "            ret,frame=capturedVideo.read()\n",
    "\n",
    "            if not ret:\n",
    "                print(\"Frames Completed.\")\n",
    "                break\n",
    "\n",
    "            frame_lab=cv2.cvtColor(frame, cv2.COLOR_BGR2LAB)\n",
    "            l,_,_=cv2.split(frame_lab)\n",
    "            avg=np.mean(l)\n",
    "\n",
    "            if avg>l_threshold:\n",
    "                day+=1\n",
    "\n",
    "            else:\n",
    "                night+=1\n",
    "\n",
    "            if cv2.waitKey(1) & 0xFF == ord('q'):\n",
    "                break\n",
    "\n",
    "        total=day+night\n",
    "\n",
    "        if total>0:\n",
    "            print(f\"In your video, {((day/total)*100):.2f} % is day and {((night/total)*100):.2f} % is night\")\n",
    "            print(f\"Day : {day}\")\n",
    "            print(f\"Night : {night}\")\n",
    "        else:\n",
    "            print(\"Unable to read any frames\")\n",
    "\n",
    "        capturedVideo.release()\n",
    "        cv2.destroyAllWindows()\n",
    "    else:\n",
    "        print(\"Error: Cannot open video file.\")"
   ]
  },
  {
   "cell_type": "code",
   "execution_count": 4,
   "metadata": {},
   "outputs": [
    {
     "name": "stdout",
     "output_type": "stream",
     "text": [
      "Frames Completed.\n",
      "In your video, 2.79 % is day and 97.21 % is night\n",
      "Day : 18\n",
      "Night : 628\n"
     ]
    }
   ],
   "source": [
    "get_timelapse_div(video_path1)"
   ]
  },
  {
   "cell_type": "code",
   "execution_count": 5,
   "metadata": {},
   "outputs": [
    {
     "name": "stdout",
     "output_type": "stream",
     "text": [
      "Frames Completed.\n",
      "In your video, 51.64 % is day and 48.36 % is night\n",
      "Day : 3534\n",
      "Night : 3310\n"
     ]
    }
   ],
   "source": [
    "get_timelapse_div(video_path2)"
   ]
  },
  {
   "cell_type": "markdown",
   "metadata": {},
   "source": [
    "# Solution 2 \n",
    "# Add a lable to frame to determine whether it is daytime or nighttime"
   ]
  },
  {
   "cell_type": "code",
   "execution_count": null,
   "metadata": {},
   "outputs": [],
   "source": [
    "import cv2\n",
    "import numpy as np"
   ]
  },
  {
   "cell_type": "code",
   "execution_count": 4,
   "metadata": {},
   "outputs": [],
   "source": [
    "video_path1=\"video1.mp4\"\n",
    "video_path2=\"video2.mp4\""
   ]
  },
  {
   "cell_type": "code",
   "execution_count": 23,
   "metadata": {},
   "outputs": [],
   "source": [
    "def get_timelapse_div_2(video_path):\n",
    "    capturedVideo=cv2.VideoCapture(video_path)\n",
    "\n",
    "    if capturedVideo.isOpened():\n",
    "        l_threshold=100\n",
    "        day=0\n",
    "        night=0\n",
    "\n",
    "        while True: \n",
    "            ret,frame=capturedVideo.read()\n",
    "\n",
    "            if not ret:\n",
    "                print(\"frames completed\")\n",
    "                break\n",
    "\n",
    "            lab_frame=cv2.cvtColor(frame,cv2.COLOR_BGR2LAB)\n",
    "            l,_,_=cv2.split(lab_frame)\n",
    "            avg=np.mean(l)\n",
    "            lab_frame_bgr=cv2.cvtColor(lab_frame,cv2.COLOR_LAB2BGR)\n",
    "\n",
    "            if avg<l_threshold:\n",
    "                night+=1\n",
    "                lab_frame_bgr=cv2.putText(lab_frame_bgr,f'Night',(50,50),cv2.FONT_HERSHEY_TRIPLEX,1,(255,255,255))\n",
    "                lab_frame_bgr=cv2.putText(lab_frame_bgr,f'L(LAB) Threshold: 100',(50,100),cv2.FONT_HERSHEY_TRIPLEX,1,(255,255,255))\n",
    "                lab_frame_bgr=cv2.putText(lab_frame_bgr,f'L: {avg:.2f}',(50,150),cv2.FONT_HERSHEY_TRIPLEX,1,(255,255,255))\n",
    "\n",
    "            else:\n",
    "                day+=1\n",
    "                lab_frame_bgr=cv2.putText(lab_frame_bgr,f'Day',(50,50),cv2.FONT_HERSHEY_TRIPLEX,1,(255,255,255))\n",
    "                lab_frame_bgr=cv2.putText(lab_frame_bgr,f'L(LAB) Threshold: 100',(50,100),cv2.FONT_HERSHEY_TRIPLEX,1,(255,255,255))\n",
    "                lab_frame_bgr=cv2.putText(lab_frame_bgr,f'L: {avg:.2f}',(50,150),cv2.FONT_HERSHEY_TRIPLEX,1,(255,255,255))\n",
    "\n",
    "            cv2.imshow('a',lab_frame_bgr)\n",
    "\n",
    "\n",
    "            if cv2.waitKey(1) & 0xFF == ord('q'):\n",
    "                break\n",
    "        \n",
    "        total=day+night\n",
    "\n",
    "        if total>0:\n",
    "            print(f\"In your video, {((day/total)*100):.2f} % is day and {((night/total)*100):.2f} % is night\")\n",
    "            print(f\"Day : {((day/total)*100):.2f} % \")\n",
    "            print(f\"Night : {((night/total)*100):.2f} % \")\n",
    "        else:\n",
    "            print(\"Unable to read any frames\")\n",
    "                \n",
    "        capturedVideo.release()\n",
    "        cv2.destroyAllWindows()\n",
    "    \n",
    "    else:\n",
    "        print(\"Error: Cannot open video file.\")\n"
   ]
  },
  {
   "cell_type": "code",
   "execution_count": 24,
   "metadata": {},
   "outputs": [
    {
     "name": "stdout",
     "output_type": "stream",
     "text": [
      "frames completed\n",
      "In your video, 2.79 % is day and 97.21 % is night\n",
      "Day : 2.79 % \n",
      "Night : 97.21 % \n"
     ]
    }
   ],
   "source": [
    "\n",
    "get_timelapse_div_2(video_path1)"
   ]
  },
  {
   "cell_type": "code",
   "execution_count": 25,
   "metadata": {},
   "outputs": [
    {
     "name": "stdout",
     "output_type": "stream",
     "text": [
      "frames completed\n",
      "In your video, 51.64 % is day and 48.36 % is night\n",
      "Day : 51.64 % \n",
      "Night : 48.36 % \n"
     ]
    }
   ],
   "source": [
    "get_timelapse_div_2(video_path2)"
   ]
  },
  {
   "cell_type": "code",
   "execution_count": null,
   "metadata": {},
   "outputs": [],
   "source": []
  }
 ],
 "metadata": {
  "kernelspec": {
   "display_name": "kncv",
   "language": "python",
   "name": "python3"
  },
  "language_info": {
   "codemirror_mode": {
    "name": "ipython",
    "version": 3
   },
   "file_extension": ".py",
   "mimetype": "text/x-python",
   "name": "python",
   "nbconvert_exporter": "python",
   "pygments_lexer": "ipython3",
   "version": "3.9.6"
  }
 },
 "nbformat": 4,
 "nbformat_minor": 2
}
